{
 "cells": [
  {
   "cell_type": "code",
   "execution_count": 46,
   "metadata": {},
   "outputs": [
    {
     "data": {
      "text/html": [
       "<script>requirejs.config({paths: { 'plotly': ['https://cdn.plot.ly/plotly-latest.min']},});if(!window.Plotly) {{require(['plotly'],function(plotly) {window.Plotly=plotly;});}}</script>"
      ],
      "text/vnd.plotly.v1+html": [
       "<script>requirejs.config({paths: { 'plotly': ['https://cdn.plot.ly/plotly-latest.min']},});if(!window.Plotly) {{require(['plotly'],function(plotly) {window.Plotly=plotly;});}}</script>"
      ]
     },
     "metadata": {},
     "output_type": "display_data"
    }
   ],
   "source": [
    "import pandas as pd\n",
    "import numpy as np\n",
    "import plotly.plotly as py\n",
    "import plotly.graph_objs as go\n",
    "from plotly.offline import download_plotlyjs, init_notebook_mode, plot, iplot\n",
    "\n",
    "init_notebook_mode(connected=True)"
   ]
  },
  {
   "cell_type": "code",
   "execution_count": 49,
   "metadata": {
    "scrolled": true
   },
   "outputs": [
    {
     "data": {
      "text/html": [
       "<div>\n",
       "<style scoped>\n",
       "    .dataframe tbody tr th:only-of-type {\n",
       "        vertical-align: middle;\n",
       "    }\n",
       "\n",
       "    .dataframe tbody tr th {\n",
       "        vertical-align: top;\n",
       "    }\n",
       "\n",
       "    .dataframe thead th {\n",
       "        text-align: right;\n",
       "    }\n",
       "</style>\n",
       "<table border=\"1\" class=\"dataframe\">\n",
       "  <thead>\n",
       "    <tr style=\"text-align: right;\">\n",
       "      <th></th>\n",
       "      <th>Cost_Forest_NH</th>\n",
       "      <th>Qty_Forest_NH</th>\n",
       "      <th>Cost_Forest_H</th>\n",
       "      <th>Qty_Forest_H</th>\n",
       "      <th>Cost_Soil</th>\n",
       "      <th>Qty_Soil</th>\n",
       "    </tr>\n",
       "  </thead>\n",
       "  <tbody>\n",
       "    <tr>\n",
       "      <th>0</th>\n",
       "      <td>0.000000</td>\n",
       "      <td>1.271586e+03</td>\n",
       "      <td>0.000000</td>\n",
       "      <td>1.025609e+03</td>\n",
       "      <td>0.0</td>\n",
       "      <td>0.0</td>\n",
       "    </tr>\n",
       "    <tr>\n",
       "      <th>1</th>\n",
       "      <td>0.493015</td>\n",
       "      <td>3.548408e+04</td>\n",
       "      <td>0.010260</td>\n",
       "      <td>1.687923e+06</td>\n",
       "      <td>0.0</td>\n",
       "      <td>0.0</td>\n",
       "    </tr>\n",
       "    <tr>\n",
       "      <th>2</th>\n",
       "      <td>0.547854</td>\n",
       "      <td>1.659294e+05</td>\n",
       "      <td>0.038767</td>\n",
       "      <td>2.297406e+06</td>\n",
       "      <td>0.0</td>\n",
       "      <td>0.0</td>\n",
       "    </tr>\n",
       "    <tr>\n",
       "      <th>3</th>\n",
       "      <td>1.305418</td>\n",
       "      <td>2.241088e+06</td>\n",
       "      <td>0.113470</td>\n",
       "      <td>2.365482e+06</td>\n",
       "      <td>0.0</td>\n",
       "      <td>0.0</td>\n",
       "    </tr>\n",
       "    <tr>\n",
       "      <th>4</th>\n",
       "      <td>1.476317</td>\n",
       "      <td>2.481460e+06</td>\n",
       "      <td>0.252651</td>\n",
       "      <td>4.472186e+06</td>\n",
       "      <td>0.0</td>\n",
       "      <td>0.0</td>\n",
       "    </tr>\n",
       "  </tbody>\n",
       "</table>\n",
       "</div>"
      ],
      "text/plain": [
       "   Cost_Forest_NH  Qty_Forest_NH  Cost_Forest_H  Qty_Forest_H  Cost_Soil  \\\n",
       "0        0.000000   1.271586e+03       0.000000  1.025609e+03        0.0   \n",
       "1        0.493015   3.548408e+04       0.010260  1.687923e+06        0.0   \n",
       "2        0.547854   1.659294e+05       0.038767  2.297406e+06        0.0   \n",
       "3        1.305418   2.241088e+06       0.113470  2.365482e+06        0.0   \n",
       "4        1.476317   2.481460e+06       0.252651  4.472186e+06        0.0   \n",
       "\n",
       "   Qty_Soil  \n",
       "0       0.0  \n",
       "1       0.0  \n",
       "2       0.0  \n",
       "3       0.0  \n",
       "4       0.0  "
      ]
     },
     "execution_count": 49,
     "metadata": {},
     "output_type": "execute_result"
    }
   ],
   "source": [
    "#Grab the data for marginal carbon storage costs by technology (forest/soil)\n",
    "df = pd.read_csv('supply_summary.csv')\n",
    "dfTechs = df[[\"Cost_Forest_NH\", \"Qty_Forest_NH\", \"Cost_Forest_H\", \"Qty_Forest_H\", \"Cost_Soil\", \"Qty_Soil\"]]\n",
    "#Show the first few records to make sure the CSV imported correctly\n",
    "dfTechs.head()"
   ]
  },
  {
   "cell_type": "code",
   "execution_count": 52,
   "metadata": {},
   "outputs": [
    {
     "data": {
      "text/html": [
       "<iframe id=\"igraph\" scrolling=\"no\" style=\"border:none;\" seamless=\"seamless\" src=\"https://plot.ly/~kbirchard/12.embed\" height=\"525px\" width=\"100%\"></iframe>"
      ],
      "text/plain": [
       "<plotly.tools.PlotlyDisplay object>"
      ]
     },
     "execution_count": 52,
     "metadata": {},
     "output_type": "execute_result"
    }
   ],
   "source": [
    "#Graph the marginal carbon storage costs by technology (forest/soil)\n",
    "\n",
    "trace0 = go.Scatter(\n",
    "    x = dfTechs.Qty_Forest_NH,\n",
    "    y = dfTechs.Cost_Forest_NH,\n",
    "    name = 'Forestry-No Harvest',\n",
    "    mode = 'markers',\n",
    "    marker = dict(\n",
    "        size = 4,\n",
    "        color = 'rgba(152, 0, 0, .8)',\n",
    "        )\n",
    "    )\n",
    "\n",
    "trace1 = go.Scatter(\n",
    "    x = dfTechs.Qty_Forest_H,\n",
    "    y = dfTechs.Cost_Forest_H,\n",
    "    name = 'Forestry-w/Harvest',\n",
    "    mode = 'markers',\n",
    "    marker = dict(\n",
    "        size = 4,\n",
    "        color = 'rgba(255, 182, 193, .9)',\n",
    "        )\n",
    "    )\n",
    "\n",
    "trace2 = go.Scatter(\n",
    "    x = dfTechs.Qty_Soil,\n",
    "    y = dfTechs.Cost_Soil,\n",
    "    name = 'Agricultural Soil',\n",
    "    mode = 'markers',\n",
    "    marker = dict(\n",
    "        size = 4,\n",
    "        color = 'rgba(18, 168, 158, .9)',\n",
    "        )\n",
    "    )\n",
    "\n",
    "data = [trace0, trace1, trace2]\n",
    "\n",
    "layout = dict(title = 'Marginal Storage Costs by Technology',\n",
    "            xaxis = {'title': 'Metric Tons CO2'},\n",
    "            yaxis = {'title': \"Price/Metric Ton CO2\"}\n",
    "            )\n",
    "\n",
    "fig = dict(data=data, layout=layout)\n",
    "py.iplot(fig, filename='summary-by-technology')"
   ]
  },
  {
   "cell_type": "code",
   "execution_count": 57,
   "metadata": {},
   "outputs": [
    {
     "data": {
      "text/html": [
       "<div>\n",
       "<style scoped>\n",
       "    .dataframe tbody tr th:only-of-type {\n",
       "        vertical-align: middle;\n",
       "    }\n",
       "\n",
       "    .dataframe tbody tr th {\n",
       "        vertical-align: top;\n",
       "    }\n",
       "\n",
       "    .dataframe thead th {\n",
       "        text-align: right;\n",
       "    }\n",
       "</style>\n",
       "<table border=\"1\" class=\"dataframe\">\n",
       "  <thead>\n",
       "    <tr style=\"text-align: right;\">\n",
       "      <th></th>\n",
       "      <th>Cost_MinCost</th>\n",
       "      <th>Qty_MinCost</th>\n",
       "      <th>Cost_MaxQty</th>\n",
       "      <th>Qty_MaxQty</th>\n",
       "      <th>Cost_CE</th>\n",
       "      <th>Qty_CE</th>\n",
       "    </tr>\n",
       "  </thead>\n",
       "  <tbody>\n",
       "    <tr>\n",
       "      <th>0</th>\n",
       "      <td>0.00000</td>\n",
       "      <td>1.271586e+03</td>\n",
       "      <td>0.000000</td>\n",
       "      <td>1271.58636</td>\n",
       "      <td>0.0</td>\n",
       "      <td>1271.58636</td>\n",
       "    </tr>\n",
       "    <tr>\n",
       "      <th>1</th>\n",
       "      <td>0.00000</td>\n",
       "      <td>1.296226e+03</td>\n",
       "      <td>0.113470</td>\n",
       "      <td>69347.38582</td>\n",
       "      <td>0.0</td>\n",
       "      <td>1296.22636</td>\n",
       "    </tr>\n",
       "    <tr>\n",
       "      <th>2</th>\n",
       "      <td>0.00000</td>\n",
       "      <td>2.480279e+04</td>\n",
       "      <td>0.259637</td>\n",
       "      <td>119675.43490</td>\n",
       "      <td>0.0</td>\n",
       "      <td>1317.17036</td>\n",
       "    </tr>\n",
       "    <tr>\n",
       "      <th>3</th>\n",
       "      <td>0.00000</td>\n",
       "      <td>7.102527e+04</td>\n",
       "      <td>0.432085</td>\n",
       "      <td>152668.84910</td>\n",
       "      <td>0.0</td>\n",
       "      <td>24823.73036</td>\n",
       "    </tr>\n",
       "    <tr>\n",
       "      <th>4</th>\n",
       "      <td>0.01026</td>\n",
       "      <td>1.757923e+06</td>\n",
       "      <td>0.547854</td>\n",
       "      <td>283114.16610</td>\n",
       "      <td>0.0</td>\n",
       "      <td>71046.21436</td>\n",
       "    </tr>\n",
       "  </tbody>\n",
       "</table>\n",
       "</div>"
      ],
      "text/plain": [
       "   Cost_MinCost   Qty_MinCost  Cost_MaxQty    Qty_MaxQty  Cost_CE       Qty_CE\n",
       "0       0.00000  1.271586e+03     0.000000    1271.58636      0.0   1271.58636\n",
       "1       0.00000  1.296226e+03     0.113470   69347.38582      0.0   1296.22636\n",
       "2       0.00000  2.480279e+04     0.259637  119675.43490      0.0   1317.17036\n",
       "3       0.00000  7.102527e+04     0.432085  152668.84910      0.0  24823.73036\n",
       "4       0.01026  1.757923e+06     0.547854  283114.16610      0.0  71046.21436"
      ]
     },
     "execution_count": 57,
     "metadata": {},
     "output_type": "execute_result"
    }
   ],
   "source": [
    "#Grab the data for marginal carbon storage costs by strategy (Min Cost, Max Benefit, Cost Effectiveness)\n",
    "dfStrat = df[[\"Cost_MinCost\", \"Qty_MinCost\", \"Cost_MaxQty\", \"Qty_MaxQty\", \"Cost_CE\", \"Qty_CE\"]]\n",
    "#Show the first few records to make sure the CSV imported correctly\n",
    "dfStrat.head()"
   ]
  },
  {
   "cell_type": "code",
   "execution_count": 59,
   "metadata": {},
   "outputs": [
    {
     "data": {
      "text/html": [
       "<iframe id=\"igraph\" scrolling=\"no\" style=\"border:none;\" seamless=\"seamless\" src=\"https://plot.ly/~kbirchard/14.embed\" height=\"525px\" width=\"100%\"></iframe>"
      ],
      "text/plain": [
       "<plotly.tools.PlotlyDisplay object>"
      ]
     },
     "execution_count": 59,
     "metadata": {},
     "output_type": "execute_result"
    }
   ],
   "source": [
    "#Graph the marginal carbon storage costs by strategy (Min Cost, Max Benefit, Cost Effectiveness)\n",
    "\n",
    "trace3 = go.Scatter(\n",
    "    x = dfStrat.Qty_MinCost,\n",
    "    y = dfStrat.Cost_MinCost,\n",
    "    name = 'Cost Minimization',\n",
    "    mode = 'markers',\n",
    "    marker = dict(\n",
    "        size = 4,\n",
    "        color = 'rgba(152, 0, 0, .8)',\n",
    "        )\n",
    "    )\n",
    "\n",
    "trace4 = go.Scatter(\n",
    "    x = dfStrat.Qty_MaxQty,\n",
    "    y = dfStrat.Cost_MaxQty,\n",
    "    name = 'Benefit Maximization',\n",
    "    mode = 'markers',\n",
    "    marker = dict(\n",
    "        size = 4,\n",
    "        color = 'rgba(255, 182, 193, .9)',\n",
    "        )\n",
    "    )\n",
    "\n",
    "trace5 = go.Scatter(\n",
    "    x = dfStrat.Qty_CE,\n",
    "    y = dfStrat.Cost_CE,\n",
    "    name = 'Cost Effectiveness',\n",
    "    mode = 'markers',\n",
    "    marker = dict(\n",
    "        size = 4,\n",
    "        color = 'rgba(18, 168, 158, .9)',\n",
    "        )\n",
    "    )\n",
    "\n",
    "data = [trace3, trace4, trace5]\n",
    "\n",
    "layout = dict(title = 'Marginal Storage Costs by Strategy',\n",
    "            xaxis = {'title': 'Metric Tons CO2'},\n",
    "            yaxis = {'title': \"Price/Metric Ton CO2\"}\n",
    "            )\n",
    "\n",
    "fig = dict(data=data, layout=layout)\n",
    "py.iplot(fig, filename='summary-by-strategy')"
   ]
  },
  {
   "cell_type": "code",
   "execution_count": null,
   "metadata": {},
   "outputs": [],
   "source": []
  }
 ],
 "metadata": {
  "kernelspec": {
   "display_name": "Python 3",
   "language": "python",
   "name": "python3"
  },
  "language_info": {
   "codemirror_mode": {
    "name": "ipython",
    "version": 3
   },
   "file_extension": ".py",
   "mimetype": "text/x-python",
   "name": "python",
   "nbconvert_exporter": "python",
   "pygments_lexer": "ipython3",
   "version": "3.6.3"
  }
 },
 "nbformat": 4,
 "nbformat_minor": 2
}
